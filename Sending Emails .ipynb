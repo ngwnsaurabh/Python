{
 "cells": [
  {
   "cell_type": "code",
   "execution_count": 2,
   "metadata": {},
   "outputs": [],
   "source": [
    "import smtplib, ssl #ssl is a module"
   ]
  },
  {
   "cell_type": "code",
   "execution_count": 9,
   "metadata": {},
   "outputs": [],
   "source": [
    "# what is an 'EMAIL SERVER'? : Basically, a server is a soft/hard-ware that accepts and responds to the requests made to it,\n",
    "# just like the waiter who coudn't serve you anything he likes or chef's special; He has to wait for our order(request) and \n",
    "# then respond to us(either serve us or tell us dish is not availabe today or any other thing). The device that make requests\n",
    "# and receives reponse is called 'client' or in hotels clients are us who are making orders. Coming back to email servers, \n",
    "# they are like post office which holds and sorts the mails and then either send them to next distribution center(another\n",
    "# post office) or directly to the reciepent. We've popular mail servers like gmail.com, yahoo.com. \n",
    "\n",
    "# Just like post-offices use trucks, ferries and planes to carry their mails mail servers have diffrent protocols to do the \n",
    "# job; these are SMTP, POP3 and IMAP. SMTP or SIMPLE MESSAGE TRANSFER PROTOCOL is used to send message only, it can't be used\n",
    "# to deliver message to the reciever; for that IMAP OR POP3 are used. \n",
    "# Companies use SMTP to send transactional mails, alerts, confirmation mails, the one that doesn't require reply.\n",
    "\n",
    "# what are 'PORTS' in email protocols? : https://www.quora.com/What-exactly-is-a-%E2%80%9Cport-number%E2%80%9D\n",
    "\n",
    "#SSL is the standard security technology for establishing an encrypted link between a web server and a browser. \n",
    "#This link ensures that all data passed between the web server and browser remain private."
   ]
  },
  {
   "cell_type": "code",
   "execution_count": 8,
   "metadata": {},
   "outputs": [
    {
     "name": "stdout",
     "output_type": "stream",
     "text": [
      "Type your password and press enter: Letgo911\n"
     ]
    }
   ],
   "source": [
    "port = 465  # For SSL\n",
    "smtp_server = \"smtp.gmail.com\"\n",
    "sender_email = \"assigntosaurabh@gmail.com\"  # Enter your address\n",
    "receiver_email = \"shushantsainiss@gmail.com\"  # Enter receiver address\n",
    "password = input(\"Type your password and press enter: \")\n",
    "message = \"\"\"\\\n",
    "Subject: Hi Sushant\n",
    "\n",
    "\n",
    "This message is sent from Python.\"\"\"\n",
    "\n",
    "context = ssl.create_default_context() #is a collection of ciphers, protocol versions, trusted certificates, \n",
    "#TLS options, TLS extensions etc.\n",
    "with smtplib.SMTP_SSL(smtp_server, port, context=context) as server:\n",
    "    server.login(sender_email, password)\n",
    "    server.sendmail(sender_email, receiver_email, message)\n"
   ]
  },
  {
   "cell_type": "code",
   "execution_count": null,
   "metadata": {},
   "outputs": [],
   "source": []
  }
 ],
 "metadata": {
  "kernelspec": {
   "display_name": "Python 3",
   "language": "python",
   "name": "python3"
  },
  "language_info": {
   "codemirror_mode": {
    "name": "ipython",
    "version": 3
   },
   "file_extension": ".py",
   "mimetype": "text/x-python",
   "name": "python",
   "nbconvert_exporter": "python",
   "pygments_lexer": "ipython3",
   "version": "3.7.4"
  }
 },
 "nbformat": 4,
 "nbformat_minor": 2
}
