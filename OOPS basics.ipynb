{
 "cells": [
  {
   "cell_type": "code",
   "execution_count": 8,
   "metadata": {},
   "outputs": [],
   "source": [
    "class car:\n",
    "    pass ##empty class also used to create empty method\n",
    "ford = car() #ford is insatnce of class 'car'\n",
    "audi = car() #for and audi both are objects!\n",
    "\n",
    "\n",
    "ford.make = 2014\n",
    "audi.make = 2019 #manufacturing year\n",
    "\n",
    "ford.speed = 200\n",
    "audi.speed = 205 #when we make an empty class, we can add attributes(make,speed) on to go.\n",
    "#speed and make are basically variables that hold infor abt our instances"
   ]
  },
  {
   "cell_type": "code",
   "execution_count": 9,
   "metadata": {},
   "outputs": [],
   "source": [
    "class Point(object):\n",
    "    '''a class for creating points'''"
   ]
  },
  {
   "cell_type": "code",
   "execution_count": 10,
   "metadata": {},
   "outputs": [],
   "source": [
    "blank = Point()\n",
    "blank.x = 3\n",
    "blank.y = 4"
   ]
  },
  {
   "cell_type": "code",
   "execution_count": 11,
   "metadata": {},
   "outputs": [],
   "source": [
    "import math\n",
    "def dist_from_origin(point):\n",
    "    print(math.sqrt(point.x**2 + point.y**2))"
   ]
  },
  {
   "cell_type": "code",
   "execution_count": 12,
   "metadata": {},
   "outputs": [
    {
     "name": "stdout",
     "output_type": "stream",
     "text": [
      "5.0\n"
     ]
    }
   ],
   "source": [
    "dist_from_origin(blank)"
   ]
  },
  {
   "cell_type": "code",
   "execution_count": 2,
   "metadata": {},
   "outputs": [],
   "source": [
    "class rectangle:\n",
    "    pass\n",
    "\n",
    "rect1 = rectangle()\n",
    "rect2 =rectangle()\n",
    "\n",
    "rect1.width = 20\n",
    "rect2.width = 25\n",
    "\n",
    "rect1.height = 10\n",
    "rect2.height = 15\n",
    "\n"
   ]
  },
  {
   "cell_type": "code",
   "execution_count": 3,
   "metadata": {},
   "outputs": [
    {
     "name": "stdout",
     "output_type": "stream",
     "text": [
      "bpl \n",
      "\n",
      "400\n"
     ]
    }
   ],
   "source": [
    "class college:\n",
    "    def __init__(self,fees,city):\n",
    "        self.fees = fees #fees and city are  attributes\n",
    "        self.city = city\n",
    "        \n",
    "#creating instances of college\n",
    "\n",
    "uit = college(400,'bpl')\n",
    "\n",
    "print(uit.city,'\\n')\n",
    "print(uit.fees)\n",
    "        \n",
    "        "
   ]
  },
  {
   "cell_type": "code",
   "execution_count": 4,
   "metadata": {},
   "outputs": [],
   "source": [
    "class student:\n",
    "    def __init__(self, roll, grde, attnd = None, *args, **kwargs): # '*' is used to pass tuple and ** used to pass dictionaries\n",
    "        self.roll = roll\n",
    "        self.grde = grde\n",
    "    \n",
    "saurabh  = student(101,'A++')   "
   ]
  },
  {
   "cell_type": "code",
   "execution_count": 5,
   "metadata": {},
   "outputs": [
    {
     "data": {
      "text/plain": [
       "'A'"
      ]
     },
     "execution_count": 5,
     "metadata": {},
     "output_type": "execute_result"
    }
   ],
   "source": [
    "class student:\n",
    "    def __init__(self, roll, *args):\n",
    "        self.roll = roll\n",
    "        self.grde = 'A' #we can pass an attribute a satic value wihout passing it into the init method\n",
    "    \n",
    "saurabh  = student(101)\n",
    "saurabh.grde\n"
   ]
  },
  {
   "cell_type": "code",
   "execution_count": 6,
   "metadata": {},
   "outputs": [],
   "source": [
    "sushant = student(113,('dadri','UP')) #here ('dadri','UP') is passed as tuple"
   ]
  },
  {
   "cell_type": "code",
   "execution_count": 7,
   "metadata": {},
   "outputs": [],
   "source": [
    "class city:\n",
    "    def __init__(self, name, population):\n",
    "        self.name = name\n",
    "        self.population = population\n",
    "    \n",
    "    def set_name(self, value):\n",
    "        self.name = value\n",
    "        \n",
    "    def get_name(self):\n",
    "        return self.name"
   ]
  },
  {
   "cell_type": "code",
   "execution_count": 8,
   "metadata": {},
   "outputs": [],
   "source": [
    "city1 = city('balaghat',2.5)"
   ]
  },
  {
   "cell_type": "code",
   "execution_count": 9,
   "metadata": {},
   "outputs": [
    {
     "data": {
      "text/plain": [
       "'balaghat'"
      ]
     },
     "execution_count": 9,
     "metadata": {},
     "output_type": "execute_result"
    }
   ],
   "source": [
    "city1.get_name()"
   ]
  },
  {
   "cell_type": "code",
   "execution_count": 10,
   "metadata": {},
   "outputs": [],
   "source": [
    "city1.set_name('bhopal')"
   ]
  },
  {
   "cell_type": "code",
   "execution_count": 11,
   "metadata": {},
   "outputs": [
    {
     "name": "stdout",
     "output_type": "stream",
     "text": [
      "bhopal\n",
      "bhopal\n"
     ]
    }
   ],
   "source": [
    "print(city1.name)\n",
    "print(city1.get_name())"
   ]
  },
  {
   "cell_type": "code",
   "execution_count": 12,
   "metadata": {},
   "outputs": [
    {
     "name": "stdout",
     "output_type": "stream",
     "text": [
      "indore\n",
      "indore\n"
     ]
    }
   ],
   "source": [
    "city1.name = 'indore'\n",
    "print(city1.name)\n",
    "print(city1.get_name())"
   ]
  },
  {
   "cell_type": "code",
   "execution_count": 13,
   "metadata": {},
   "outputs": [],
   "source": [
    "class bottle:\n",
    "    def __init__(self, color):\n",
    "        self.__color =  color #color is encapsulated by double underscore {__}\n",
    "        self.material = 'steel'\n",
    "    def set_color(self, value):\n",
    "        self.__color = value\n",
    "        \n",
    "    def get_color(self):\n",
    "        return self.__color"
   ]
  },
  {
   "cell_type": "code",
   "execution_count": 14,
   "metadata": {},
   "outputs": [],
   "source": [
    "milton = bottle('blue')"
   ]
  },
  {
   "cell_type": "code",
   "execution_count": 15,
   "metadata": {},
   "outputs": [],
   "source": [
    "milton.set_color('red')"
   ]
  },
  {
   "cell_type": "code",
   "execution_count": 16,
   "metadata": {},
   "outputs": [
    {
     "data": {
      "text/plain": [
       "'steel'"
      ]
     },
     "execution_count": 16,
     "metadata": {},
     "output_type": "execute_result"
    }
   ],
   "source": [
    "milton.material"
   ]
  },
  {
   "cell_type": "code",
   "execution_count": 17,
   "metadata": {},
   "outputs": [],
   "source": [
    "milton.material = 'steel' #here we changed  the materials's value without any method"
   ]
  },
  {
   "cell_type": "code",
   "execution_count": 18,
   "metadata": {},
   "outputs": [
    {
     "data": {
      "text/plain": [
       "'steel'"
      ]
     },
     "execution_count": 18,
     "metadata": {},
     "output_type": "execute_result"
    }
   ],
   "source": [
    "milton.material"
   ]
  },
  {
   "cell_type": "code",
   "execution_count": 19,
   "metadata": {},
   "outputs": [],
   "source": [
    "class bottle:\n",
    "    def __init__(self, color):\n",
    "        self.__color =  color #color is encapsulated by double underscore {__}\n",
    "        self.material = 'steel'\n",
    "    def set_color(self, value):\n",
    "        self.__color = value\n",
    "        \n",
    "    def get_color(self):\n",
    "        return self.__color\n",
    "    \n",
    "    def __private_method(self): #private method, cannot be called outisde the class\n",
    "        print(\"méthode privée\")\n",
    "        \n",
    "    def private_method_use(self):\n",
    "        self.__private_method() #private methods can be used inside the class, can be called outside the class with other function"
   ]
  },
  {
   "cell_type": "code",
   "execution_count": 20,
   "metadata": {},
   "outputs": [],
   "source": [
    "tupperware = bottle('white')"
   ]
  },
  {
   "cell_type": "code",
   "execution_count": 21,
   "metadata": {},
   "outputs": [
    {
     "name": "stdout",
     "output_type": "stream",
     "text": [
      "méthode privée\n"
     ]
    }
   ],
   "source": [
    "tupperware.private_method_use()"
   ]
  },
  {
   "cell_type": "code",
   "execution_count": 66,
   "metadata": {},
   "outputs": [],
   "source": [
    "class Celestial: #Superclass\n",
    "    dia = None\n",
    "    acc_gravity = 4    \n",
    "    def set_values(self,dia,acc_gravity):\n",
    "        self.dia = dia\n",
    "        self.acc_gravity = acc_gravity\n",
    "    \n",
    "class Moon(Celestial): #Subclass\n",
    "    pass\n",
    "\n",
    "titan = Moon()"
   ]
  },
  {
   "cell_type": "code",
   "execution_count": 15,
   "metadata": {},
   "outputs": [],
   "source": [
    "class Parent: #superclass\n",
    "    def __init__(self):\n",
    "        print('Parent')\n",
    "class Parent2: #2nd superclass\n",
    "    def __init__(self):\n",
    "        print('Parent2')\n",
    "class Child(Parent,Parent2): #childclass\n",
    "    def __init__(self):\n",
    "        print('Child')\n",
    "\n"
   ]
  },
  {
   "cell_type": "code",
   "execution_count": 17,
   "metadata": {},
   "outputs": [
    {
     "name": "stdout",
     "output_type": "stream",
     "text": [
      "Child\n"
     ]
    }
   ],
   "source": [
    "x = Child() #calling child class called it's own intializer"
   ]
  },
  {
   "cell_type": "code",
   "execution_count": 22,
   "metadata": {},
   "outputs": [],
   "source": [
    "class Parent: #superclass\n",
    "    def __init__(self):\n",
    "        print('Parent')\n",
    "class Parent2: #2nd superclass\n",
    "    def __init__(self):\n",
    "        print('Parent2')\n",
    "class Child(Parent,Parent2): #childclass showing multiple inheritances\n",
    "    def __init__(self):\n",
    "        print('Child')\n",
    "        super().__init__() #using super() called intilizer of first parent\n"
   ]
  },
  {
   "cell_type": "code",
   "execution_count": 23,
   "metadata": {},
   "outputs": [
    {
     "name": "stdout",
     "output_type": "stream",
     "text": [
      "Child\n",
      "Parent\n"
     ]
    }
   ],
   "source": [
    "x = Child()"
   ]
  },
  {
   "cell_type": "code",
   "execution_count": 26,
   "metadata": {},
   "outputs": [],
   "source": [
    "class Parent: #superclass\n",
    "    def __init__(self):\n",
    "        print('Parent')\n",
    "class Parent2: #2nd superclass\n",
    "    def __init__(self):\n",
    "        print('Parent2')\n",
    "class Child(Parent,Parent2): #childclass\n",
    "    def __init__(self):\n",
    "        print('Child')\n",
    "        Parent.__init__(self) #both parents can be called this way\n",
    "        Parent2.__init__(self)"
   ]
  },
  {
   "cell_type": "code",
   "execution_count": 27,
   "metadata": {},
   "outputs": [
    {
     "name": "stdout",
     "output_type": "stream",
     "text": [
      "Child\n",
      "Parent\n",
      "Parent2\n"
     ]
    }
   ],
   "source": [
    "x = Child()"
   ]
  },
  {
   "cell_type": "code",
   "execution_count": null,
   "metadata": {},
   "outputs": [],
   "source": []
  }
 ],
 "metadata": {
  "kernelspec": {
   "display_name": "Python 3",
   "language": "python",
   "name": "python3"
  },
  "language_info": {
   "codemirror_mode": {
    "name": "ipython",
    "version": 3
   },
   "file_extension": ".py",
   "mimetype": "text/x-python",
   "name": "python",
   "nbconvert_exporter": "python",
   "pygments_lexer": "ipython3",
   "version": "3.7.4"
  }
 },
 "nbformat": 4,
 "nbformat_minor": 2
}
