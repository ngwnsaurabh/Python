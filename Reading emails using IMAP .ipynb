{
 "cells": [
  {
   "cell_type": "code",
   "execution_count": null,
   "metadata": {},
   "outputs": [],
   "source": [
    "# What is MIME?\n",
    "# https://www.geeksforgeeks.org/multipurpose-internet-mail-extension-mime-protocol/\n",
    "# http://www.enewsletterpro.com/articles/multi_part_mime_messages.asp    "
   ]
  },
  {
   "cell_type": "code",
   "execution_count": 148,
   "metadata": {},
   "outputs": [],
   "source": [
    "import imaplib #https://docs.python.org/2/library/imaplib.html\n",
    "import email #https://docs.python.org/2.7/library/email.message.html\n",
    "import os"
   ]
  },
  {
   "cell_type": "code",
   "execution_count": null,
   "metadata": {},
   "outputs": [],
   "source": [
    "host = 'imap.gmail.com'\n",
    "user = 'assigntosaurabh@gmail.com'\n",
    "password = input(\"Type your password and press 'Enter': \")\n",
    "server = imaplib.IMAP4_SSL(host = host) \n",
    "server.login(user,password) #IMAP.logout() ton close the link"
   ]
  },
  {
   "cell_type": "code",
   "execution_count": 3,
   "metadata": {},
   "outputs": [
    {
     "data": {
      "text/plain": [
       "('OK',\n",
       " [b'(\\\\HasNoChildren) \"/\" \"INBOX\"',\n",
       "  b'(\\\\HasChildren \\\\Noselect) \"/\" \"[Gmail]\"',\n",
       "  b'(\\\\All \\\\HasNoChildren) \"/\" \"[Gmail]/All Mail\"',\n",
       "  b'(\\\\Drafts \\\\HasNoChildren) \"/\" \"[Gmail]/Drafts\"',\n",
       "  b'(\\\\HasNoChildren \\\\Important) \"/\" \"[Gmail]/Important\"',\n",
       "  b'(\\\\HasNoChildren \\\\Sent) \"/\" \"[Gmail]/Sent Mail\"',\n",
       "  b'(\\\\HasNoChildren \\\\Junk) \"/\" \"[Gmail]/Spam\"',\n",
       "  b'(\\\\Flagged \\\\HasNoChildren) \"/\" \"[Gmail]/Starred\"',\n",
       "  b'(\\\\HasNoChildren \\\\Trash) \"/\" \"[Gmail]/Trash\"',\n",
       "  b'(\\\\HasNoChildren) \"/\" \"srb\"'])"
      ]
     },
     "execution_count": 3,
     "metadata": {},
     "output_type": "execute_result"
    }
   ],
   "source": [
    "server.list() #returns all mailboxes"
   ]
  },
  {
   "cell_type": "code",
   "execution_count": 4,
   "metadata": {},
   "outputs": [
    {
     "data": {
      "text/plain": [
       "('OK', [b'Success'])"
      ]
     },
     "execution_count": 4,
     "metadata": {},
     "output_type": "execute_result"
    }
   ],
   "source": [
    "#we can create our own mailbox with create() method\n",
    "server.create('new_mailbox') #server.delete('new_mailbox') to delete mailbox"
   ]
  },
  {
   "cell_type": "code",
   "execution_count": 5,
   "metadata": {},
   "outputs": [
    {
     "data": {
      "text/plain": [
       "('OK',\n",
       " [b'(\\\\HasNoChildren) \"/\" \"INBOX\"',\n",
       "  b'(\\\\HasChildren \\\\Noselect) \"/\" \"[Gmail]\"',\n",
       "  b'(\\\\All \\\\HasNoChildren) \"/\" \"[Gmail]/All Mail\"',\n",
       "  b'(\\\\Drafts \\\\HasNoChildren) \"/\" \"[Gmail]/Drafts\"',\n",
       "  b'(\\\\HasNoChildren \\\\Important) \"/\" \"[Gmail]/Important\"',\n",
       "  b'(\\\\HasNoChildren \\\\Sent) \"/\" \"[Gmail]/Sent Mail\"',\n",
       "  b'(\\\\HasNoChildren \\\\Junk) \"/\" \"[Gmail]/Spam\"',\n",
       "  b'(\\\\Flagged \\\\HasNoChildren) \"/\" \"[Gmail]/Starred\"',\n",
       "  b'(\\\\HasNoChildren \\\\Trash) \"/\" \"[Gmail]/Trash\"',\n",
       "  b'(\\\\HasNoChildren) \"/\" \"new_mailbox\"',\n",
       "  b'(\\\\HasNoChildren) \"/\" \"srb\"'])"
      ]
     },
     "execution_count": 5,
     "metadata": {},
     "output_type": "execute_result"
    }
   ],
   "source": [
    "server.list()"
   ]
  },
  {
   "cell_type": "code",
   "execution_count": 6,
   "metadata": {},
   "outputs": [
    {
     "data": {
      "text/plain": [
       "('OK', [b'Success'])"
      ]
     },
     "execution_count": 6,
     "metadata": {},
     "output_type": "execute_result"
    }
   ],
   "source": [
    "server.rename('new_mailbox','old_mailbox')"
   ]
  },
  {
   "cell_type": "code",
   "execution_count": 7,
   "metadata": {},
   "outputs": [
    {
     "data": {
      "text/plain": [
       "('OK',\n",
       " [b'(\\\\HasNoChildren) \"/\" \"INBOX\"',\n",
       "  b'(\\\\HasChildren \\\\Noselect) \"/\" \"[Gmail]\"',\n",
       "  b'(\\\\All \\\\HasNoChildren) \"/\" \"[Gmail]/All Mail\"',\n",
       "  b'(\\\\Drafts \\\\HasNoChildren) \"/\" \"[Gmail]/Drafts\"',\n",
       "  b'(\\\\HasNoChildren \\\\Important) \"/\" \"[Gmail]/Important\"',\n",
       "  b'(\\\\HasNoChildren \\\\Sent) \"/\" \"[Gmail]/Sent Mail\"',\n",
       "  b'(\\\\HasNoChildren \\\\Junk) \"/\" \"[Gmail]/Spam\"',\n",
       "  b'(\\\\Flagged \\\\HasNoChildren) \"/\" \"[Gmail]/Starred\"',\n",
       "  b'(\\\\HasNoChildren \\\\Trash) \"/\" \"[Gmail]/Trash\"',\n",
       "  b'(\\\\HasNoChildren) \"/\" \"old_mailbox\"',\n",
       "  b'(\\\\HasNoChildren) \"/\" \"srb\"'])"
      ]
     },
     "execution_count": 7,
     "metadata": {},
     "output_type": "execute_result"
    }
   ],
   "source": [
    "server.list()"
   ]
  },
  {
   "cell_type": "markdown",
   "metadata": {},
   "source": [
    "Reading MAil from INBOX"
   ]
  },
  {
   "cell_type": "code",
   "execution_count": 190,
   "metadata": {},
   "outputs": [
    {
     "data": {
      "text/plain": [
       "('OK', [b'4'])"
      ]
     },
     "execution_count": 190,
     "metadata": {},
     "output_type": "execute_result"
    }
   ],
   "source": [
    "server.select('INBOX') #selecting a mailbox to work with, use IMAP.close() to close currently select mailbox"
   ]
  },
  {
   "cell_type": "code",
   "execution_count": 9,
   "metadata": {},
   "outputs": [
    {
     "data": {
      "text/plain": [
       "<ssl.SSLSocket fd=968, family=AddressFamily.AF_INET, type=SocketKind.SOCK_STREAM, proto=0, laddr=('192.168.43.240', 51831), raddr=('172.253.118.109', 993)>"
      ]
     },
     "execution_count": 9,
     "metadata": {},
     "output_type": "execute_result"
    }
   ],
   "source": [
    "server.socket() #returns socket used "
   ]
  },
  {
   "cell_type": "code",
   "execution_count": 10,
   "metadata": {},
   "outputs": [
    {
     "data": {
      "text/plain": [
       "('OK', [b'Success'])"
      ]
     },
     "execution_count": 10,
     "metadata": {},
     "output_type": "execute_result"
    }
   ],
   "source": [
    "server.noop() #useful mostly in testing to avoid timeouts"
   ]
  },
  {
   "cell_type": "code",
   "execution_count": 96,
   "metadata": {},
   "outputs": [],
   "source": [
    "result, data = server.fetch(b'2', ('RFC822'))  #returns result of process either 'OK' or 'NO' and data which is a list\n",
    "#here we're fetching 2nd email; indexing starts from 1!"
   ]
  },
  {
   "cell_type": "code",
   "execution_count": 12,
   "metadata": {
    "scrolled": true
   },
   "outputs": [
    {
     "data": {
      "text/plain": [
       "[(b'2 (RFC822 {4764}',\n",
       "  b'Delivered-To: assigntosaurabh@gmail.com\\r\\nReceived: by 2002:a02:9007:0:0:0:0:0 with SMTP id w7csp4447805jaf;\\r\\n        Tue, 3 Mar 2020 23:52:59 -0800 (PST)\\r\\nX-Received: by 2002:a2e:95cd:: with SMTP id y13mr531981ljh.147.1583308378955;\\r\\n        Tue, 03 Mar 2020 23:52:58 -0800 (PST)\\r\\nARC-Seal: i=1; a=rsa-sha256; t=1583308378; cv=none;\\r\\n        d=google.com; s=arc-20160816;\\r\\n        b=HCIo1sLCDmnNwepWJ9+VG9Qe2bEyik0GyvpeLIP9k/5AzjBJbYN8OlR/sp3UZ+brz2\\r\\n         0Tavf86DfQi8z1C+gzCW7ZhHKo4VBwEWFUYZqKEUCYlcj+5RVeyfdRohCkX0OT+ijZde\\r\\n         GIe1zBozkHek6TypxfErtdMuj1joQostAJf7hKLJ1ACyxgJ458uJbV75p8aTkS8ngwjF\\r\\n         XRc1l9qy5E3Zp5Rjpb6AO+MUv7wOODvLIJF/b1WkHdwhoKKz4g65b36sdATX5LbDUsSu\\r\\n         rXQMZ+qYBHmhG/HT6UrLATCiAljbj1NagndTffQlR0h3Xq1yGSx745Fat0pAiQjm3zKc\\r\\n         J41w==\\r\\nARC-Message-Signature: i=1; a=rsa-sha256; c=relaxed/relaxed; d=google.com; s=arc-20160816;\\r\\n        h=to:subject:message-id:date:from:mime-version:dkim-signature;\\r\\n        bh=DKvFPiy4b6f666SYb6VpTKW6RYW0QJyD413oHW5na9U=;\\r\\n        b=buMvUIjzj0wTuCyo7Kdv9+uIRe5pmtBX/7Kr6IT3m8PYM59huCDDjzUJ453i3i6j7m\\r\\n         pOz4oV26EJxOlpSeEM7KTTpxl2I/6v0M0BHSLxkyEpiY7UAtQt/K4Vu7HPtHxoKxNQ4G\\r\\n         /yFSt8FDlwW9hooRX69tACwXJj02/HcjXTDUnWDOle7iFdaX6s81bj+HreR7pXMuet44\\r\\n         qQ61gU8RUyvhFEcxlzD832OdUG5dsOokxUHn5XBBVipuuaGep8/yZ83j2XPNLLOX3alu\\r\\n         Yhl5SyOgEKDwy4kG/+7wAaoRflr9LaFXqs9ZKTiyvoy1cZGh9h04BGgsAYxtMP4f5c/I\\r\\n         claw==\\r\\nARC-Authentication-Results: i=1; mx.google.com;\\r\\n       dkim=pass header.i=@gmail.com header.s=20161025 header.b=\"GG4aixz/\";\\r\\n       spf=pass (google.com: domain of nagwanshi397@gmail.com designates 209.85.220.41 as permitted sender) smtp.mailfrom=nagwanshi397@gmail.com;\\r\\n       dmarc=pass (p=NONE sp=QUARANTINE dis=NONE) header.from=gmail.com\\r\\nReturn-Path: <nagwanshi397@gmail.com>\\r\\nReceived: from mail-sor-f41.google.com (mail-sor-f41.google.com. [209.85.220.41])\\r\\n        by mx.google.com with SMTPS id l124sor327772lfd.28.2020.03.03.23.52.58\\r\\n        for <assigntosaurabh@gmail.com>\\r\\n        (Google Transport Security);\\r\\n        Tue, 03 Mar 2020 23:52:58 -0800 (PST)\\r\\nReceived-SPF: pass (google.com: domain of nagwanshi397@gmail.com designates 209.85.220.41 as permitted sender) client-ip=209.85.220.41;\\r\\nAuthentication-Results: mx.google.com;\\r\\n       dkim=pass header.i=@gmail.com header.s=20161025 header.b=\"GG4aixz/\";\\r\\n       spf=pass (google.com: domain of nagwanshi397@gmail.com designates 209.85.220.41 as permitted sender) smtp.mailfrom=nagwanshi397@gmail.com;\\r\\n       dmarc=pass (p=NONE sp=QUARANTINE dis=NONE) header.from=gmail.com\\r\\nDKIM-Signature: v=1; a=rsa-sha256; c=relaxed/relaxed;\\r\\n        d=gmail.com; s=20161025;\\r\\n        h=mime-version:from:date:message-id:subject:to;\\r\\n        bh=DKvFPiy4b6f666SYb6VpTKW6RYW0QJyD413oHW5na9U=;\\r\\n        b=GG4aixz/WLjeuaJdtasgbJouCa7jZOvyA0njgcqR6maRd4y7z013WsuCZ+wX8bKclc\\r\\n         uLFcXnDi38vFJgckZPyB5f6uhtOeaIDhw38eV+SqpduSfC1zhZNbjTjCTp2j+hRrLLaW\\r\\n         jtYVYp40t4HmBZBMcIMZ9bG0um7jYC7H8fjYmWM2o9cD/hZHJ1ITP/G474vOguA//9Mc\\r\\n         d5rMV9G/cAsIqsseoeQCEkapT3tyd7Y958/9oizJfxefvzh8rnc5/GXSRZFUYWEEleDr\\r\\n         9Dbvs+v+CbikmS9cNKlm7DeZqQQ3kr58imz27+fGIP6q+MhDQNA+RD89+7TLZx3FkD3o\\r\\n         RKnw==\\r\\nX-Google-DKIM-Signature: v=1; a=rsa-sha256; c=relaxed/relaxed;\\r\\n        d=1e100.net; s=20161025;\\r\\n        h=x-gm-message-state:mime-version:from:date:message-id:subject:to;\\r\\n        bh=DKvFPiy4b6f666SYb6VpTKW6RYW0QJyD413oHW5na9U=;\\r\\n        b=qQaXngPDIy6GFGuRLsVrxVVf99TXcgByFJhFdQK/eRQq84LfRAZgId1m0sdo8qQcL4\\r\\n         vp3ySaN8akJYhl3urilmD5WykN+hDv/ocrArfoJtac6Mn3Vvwk6vr+5WCOgsUvcwHGD4\\r\\n         RFgpUxgGeMSnNrdj/1BepXE5gwv7SRcnl7y+ddcuHHdo52O3twudvCVrib0P56E4cVmD\\r\\n         x+xIzTd0GgM/iUC+QzSEU3hyzLMrP2OpszzQTHOsQy4H58QizMMwpyJYqnpMTsvzFMKZ\\r\\n         fCWnSfYS77ocmK+FWS2ew2fo6yPuXInMxJD+OcDqAhBz7vIQSy/oCjrmmzg8avIAjT/k\\r\\n         cMVQ==\\r\\nX-Gm-Message-State: ANhLgQ3eEO765uGUTHnrEhI8TFQ27ell9tcCY43YCKtLvUPhQe2y7YFZ\\r\\n\\t/1fiGydul80Uc/4jjvgKVRD+i/YXedRGTV8i8x+Bp/lOfrU=\\r\\nX-Google-Smtp-Source: ADFU+vu6U9uuLiQAGQfVbSDrGjBFcMcbhc42joN6MRjJ0eVDBAV2rr97J9Jyk1CNXjJj5AvepUlsr/EVct461EOGgLo=\\r\\nX-Received: by 2002:a19:878a:: with SMTP id j132mr1245336lfd.83.1583308377947;\\r\\n Tue, 03 Mar 2020 23:52:57 -0800 (PST)\\r\\nMIME-Version: 1.0\\r\\nFrom: Saurabh Nagwanshi <nagwanshi397@gmail.com>\\r\\nDate: Wed, 4 Mar 2020 13:22:45 +0530\\r\\nMessage-ID: <CAPhY23Pv1sF5k2+FGwvstxcbNfXBGGg=79Y9f3YH8w5REaHp2Q@mail.gmail.com>\\r\\nSubject: Heloo\\r\\nTo: assigntosaurabh@gmail.com\\r\\nContent-Type: multipart/alternative; boundary=\"00000000000070028205a002b5a4\"\\r\\n\\r\\n--00000000000070028205a002b5a4\\r\\nContent-Type: text/plain; charset=\"UTF-8\"\\r\\n\\r\\nUnseen message hai ye!\\r\\n\\r\\n--00000000000070028205a002b5a4\\r\\nContent-Type: text/html; charset=\"UTF-8\"\\r\\n\\r\\n<div dir=\"ltr\">Unseen message hai ye!</div>\\r\\n\\r\\n--00000000000070028205a002b5a4--\\r\\n'),\n",
       " b')']"
      ]
     },
     "execution_count": 12,
     "metadata": {},
     "output_type": "execute_result"
    }
   ],
   "source": [
    "data"
   ]
  },
  {
   "cell_type": "code",
   "execution_count": 16,
   "metadata": {
    "scrolled": true
   },
   "outputs": [
    {
     "data": {
      "text/plain": [
       "b'Delivered-To: assigntosaurabh@gmail.com\\r\\nReceived: by 2002:a02:9007:0:0:0:0:0 with SMTP id w7csp4447805jaf;\\r\\n        Tue, 3 Mar 2020 23:52:59 -0800 (PST)\\r\\nX-Received: by 2002:a2e:95cd:: with SMTP id y13mr531981ljh.147.1583308378955;\\r\\n        Tue, 03 Mar 2020 23:52:58 -0800 (PST)\\r\\nARC-Seal: i=1; a=rsa-sha256; t=1583308378; cv=none;\\r\\n        d=google.com; s=arc-20160816;\\r\\n        b=HCIo1sLCDmnNwepWJ9+VG9Qe2bEyik0GyvpeLIP9k/5AzjBJbYN8OlR/sp3UZ+brz2\\r\\n         0Tavf86DfQi8z1C+gzCW7ZhHKo4VBwEWFUYZqKEUCYlcj+5RVeyfdRohCkX0OT+ijZde\\r\\n         GIe1zBozkHek6TypxfErtdMuj1joQostAJf7hKLJ1ACyxgJ458uJbV75p8aTkS8ngwjF\\r\\n         XRc1l9qy5E3Zp5Rjpb6AO+MUv7wOODvLIJF/b1WkHdwhoKKz4g65b36sdATX5LbDUsSu\\r\\n         rXQMZ+qYBHmhG/HT6UrLATCiAljbj1NagndTffQlR0h3Xq1yGSx745Fat0pAiQjm3zKc\\r\\n         J41w==\\r\\nARC-Message-Signature: i=1; a=rsa-sha256; c=relaxed/relaxed; d=google.com; s=arc-20160816;\\r\\n        h=to:subject:message-id:date:from:mime-version:dkim-signature;\\r\\n        bh=DKvFPiy4b6f666SYb6VpTKW6RYW0QJyD413oHW5na9U=;\\r\\n        b=buMvUIjzj0wTuCyo7Kdv9+uIRe5pmtBX/7Kr6IT3m8PYM59huCDDjzUJ453i3i6j7m\\r\\n         pOz4oV26EJxOlpSeEM7KTTpxl2I/6v0M0BHSLxkyEpiY7UAtQt/K4Vu7HPtHxoKxNQ4G\\r\\n         /yFSt8FDlwW9hooRX69tACwXJj02/HcjXTDUnWDOle7iFdaX6s81bj+HreR7pXMuet44\\r\\n         qQ61gU8RUyvhFEcxlzD832OdUG5dsOokxUHn5XBBVipuuaGep8/yZ83j2XPNLLOX3alu\\r\\n         Yhl5SyOgEKDwy4kG/+7wAaoRflr9LaFXqs9ZKTiyvoy1cZGh9h04BGgsAYxtMP4f5c/I\\r\\n         claw==\\r\\nARC-Authentication-Results: i=1; mx.google.com;\\r\\n       dkim=pass header.i=@gmail.com header.s=20161025 header.b=\"GG4aixz/\";\\r\\n       spf=pass (google.com: domain of nagwanshi397@gmail.com designates 209.85.220.41 as permitted sender) smtp.mailfrom=nagwanshi397@gmail.com;\\r\\n       dmarc=pass (p=NONE sp=QUARANTINE dis=NONE) header.from=gmail.com\\r\\nReturn-Path: <nagwanshi397@gmail.com>\\r\\nReceived: from mail-sor-f41.google.com (mail-sor-f41.google.com. [209.85.220.41])\\r\\n        by mx.google.com with SMTPS id l124sor327772lfd.28.2020.03.03.23.52.58\\r\\n        for <assigntosaurabh@gmail.com>\\r\\n        (Google Transport Security);\\r\\n        Tue, 03 Mar 2020 23:52:58 -0800 (PST)\\r\\nReceived-SPF: pass (google.com: domain of nagwanshi397@gmail.com designates 209.85.220.41 as permitted sender) client-ip=209.85.220.41;\\r\\nAuthentication-Results: mx.google.com;\\r\\n       dkim=pass header.i=@gmail.com header.s=20161025 header.b=\"GG4aixz/\";\\r\\n       spf=pass (google.com: domain of nagwanshi397@gmail.com designates 209.85.220.41 as permitted sender) smtp.mailfrom=nagwanshi397@gmail.com;\\r\\n       dmarc=pass (p=NONE sp=QUARANTINE dis=NONE) header.from=gmail.com\\r\\nDKIM-Signature: v=1; a=rsa-sha256; c=relaxed/relaxed;\\r\\n        d=gmail.com; s=20161025;\\r\\n        h=mime-version:from:date:message-id:subject:to;\\r\\n        bh=DKvFPiy4b6f666SYb6VpTKW6RYW0QJyD413oHW5na9U=;\\r\\n        b=GG4aixz/WLjeuaJdtasgbJouCa7jZOvyA0njgcqR6maRd4y7z013WsuCZ+wX8bKclc\\r\\n         uLFcXnDi38vFJgckZPyB5f6uhtOeaIDhw38eV+SqpduSfC1zhZNbjTjCTp2j+hRrLLaW\\r\\n         jtYVYp40t4HmBZBMcIMZ9bG0um7jYC7H8fjYmWM2o9cD/hZHJ1ITP/G474vOguA//9Mc\\r\\n         d5rMV9G/cAsIqsseoeQCEkapT3tyd7Y958/9oizJfxefvzh8rnc5/GXSRZFUYWEEleDr\\r\\n         9Dbvs+v+CbikmS9cNKlm7DeZqQQ3kr58imz27+fGIP6q+MhDQNA+RD89+7TLZx3FkD3o\\r\\n         RKnw==\\r\\nX-Google-DKIM-Signature: v=1; a=rsa-sha256; c=relaxed/relaxed;\\r\\n        d=1e100.net; s=20161025;\\r\\n        h=x-gm-message-state:mime-version:from:date:message-id:subject:to;\\r\\n        bh=DKvFPiy4b6f666SYb6VpTKW6RYW0QJyD413oHW5na9U=;\\r\\n        b=qQaXngPDIy6GFGuRLsVrxVVf99TXcgByFJhFdQK/eRQq84LfRAZgId1m0sdo8qQcL4\\r\\n         vp3ySaN8akJYhl3urilmD5WykN+hDv/ocrArfoJtac6Mn3Vvwk6vr+5WCOgsUvcwHGD4\\r\\n         RFgpUxgGeMSnNrdj/1BepXE5gwv7SRcnl7y+ddcuHHdo52O3twudvCVrib0P56E4cVmD\\r\\n         x+xIzTd0GgM/iUC+QzSEU3hyzLMrP2OpszzQTHOsQy4H58QizMMwpyJYqnpMTsvzFMKZ\\r\\n         fCWnSfYS77ocmK+FWS2ew2fo6yPuXInMxJD+OcDqAhBz7vIQSy/oCjrmmzg8avIAjT/k\\r\\n         cMVQ==\\r\\nX-Gm-Message-State: ANhLgQ3eEO765uGUTHnrEhI8TFQ27ell9tcCY43YCKtLvUPhQe2y7YFZ\\r\\n\\t/1fiGydul80Uc/4jjvgKVRD+i/YXedRGTV8i8x+Bp/lOfrU=\\r\\nX-Google-Smtp-Source: ADFU+vu6U9uuLiQAGQfVbSDrGjBFcMcbhc42joN6MRjJ0eVDBAV2rr97J9Jyk1CNXjJj5AvepUlsr/EVct461EOGgLo=\\r\\nX-Received: by 2002:a19:878a:: with SMTP id j132mr1245336lfd.83.1583308377947;\\r\\n Tue, 03 Mar 2020 23:52:57 -0800 (PST)\\r\\nMIME-Version: 1.0\\r\\nFrom: Saurabh Nagwanshi <nagwanshi397@gmail.com>\\r\\nDate: Wed, 4 Mar 2020 13:22:45 +0530\\r\\nMessage-ID: <CAPhY23Pv1sF5k2+FGwvstxcbNfXBGGg=79Y9f3YH8w5REaHp2Q@mail.gmail.com>\\r\\nSubject: Heloo\\r\\nTo: assigntosaurabh@gmail.com\\r\\nContent-Type: multipart/alternative; boundary=\"00000000000070028205a002b5a4\"\\r\\n\\r\\n--00000000000070028205a002b5a4\\r\\nContent-Type: text/plain; charset=\"UTF-8\"\\r\\n\\r\\nUnseen message hai ye!\\r\\n\\r\\n--00000000000070028205a002b5a4\\r\\nContent-Type: text/html; charset=\"UTF-8\"\\r\\n\\r\\n<div dir=\"ltr\">Unseen message hai ye!</div>\\r\\n\\r\\n--00000000000070028205a002b5a4--\\r\\n'"
      ]
     },
     "execution_count": 16,
     "metadata": {},
     "output_type": "execute_result"
    }
   ],
   "source": [
    "data[0][1] #bytes object as it is begnning with \"b'\"\n",
    "#https://www.geeksforgeeks.org/byte-objects-vs-string-python/"
   ]
  },
  {
   "cell_type": "code",
   "execution_count": 17,
   "metadata": {},
   "outputs": [],
   "source": [
    "def get_body(msg):\n",
    "    if msg.is_multipart():\n",
    "        #get_payload returns a list of multiparts of message\n",
    "        return msg.get_payload(0) #0 refers to text/plain, 1 refers to html\n",
    "    else:\n",
    "        return msg.get_payload(None,True)\n",
    "    "
   ]
  },
  {
   "cell_type": "code",
   "execution_count": 97,
   "metadata": {},
   "outputs": [],
   "source": [
    "raw = email.message_from_bytes(data[0][1])"
   ]
  },
  {
   "cell_type": "code",
   "execution_count": 19,
   "metadata": {
    "scrolled": true
   },
   "outputs": [
    {
     "name": "stdout",
     "output_type": "stream",
     "text": [
      "Delivered-To: assigntosaurabh@gmail.com\n",
      "Received: by 2002:a02:9007:0:0:0:0:0 with SMTP id w7csp4447805jaf;\n",
      "        Tue, 3 Mar 2020 23:52:59 -0800 (PST)\n",
      "X-Received: by 2002:a2e:95cd:: with SMTP id y13mr531981ljh.147.1583308378955;\n",
      "        Tue, 03 Mar 2020 23:52:58 -0800 (PST)\n",
      "ARC-Seal: i=1; a=rsa-sha256; t=1583308378; cv=none;\n",
      "        d=google.com; s=arc-20160816;\n",
      "        b=HCIo1sLCDmnNwepWJ9+VG9Qe2bEyik0GyvpeLIP9k/5AzjBJbYN8OlR/sp3UZ+brz2\n",
      "         0Tavf86DfQi8z1C+gzCW7ZhHKo4VBwEWFUYZqKEUCYlcj+5RVeyfdRohCkX0OT+ijZde\n",
      "         GIe1zBozkHek6TypxfErtdMuj1joQostAJf7hKLJ1ACyxgJ458uJbV75p8aTkS8ngwjF\n",
      "         XRc1l9qy5E3Zp5Rjpb6AO+MUv7wOODvLIJF/b1WkHdwhoKKz4g65b36sdATX5LbDUsSu\n",
      "         rXQMZ+qYBHmhG/HT6UrLATCiAljbj1NagndTffQlR0h3Xq1yGSx745Fat0pAiQjm3zKc\n",
      "         J41w==\n",
      "ARC-Message-Signature: i=1; a=rsa-sha256; c=relaxed/relaxed; d=google.com; s=arc-20160816;\n",
      "        h=to:subject:message-id:date:from:mime-version:dkim-signature;\n",
      "        bh=DKvFPiy4b6f666SYb6VpTKW6RYW0QJyD413oHW5na9U=;\n",
      "        b=buMvUIjzj0wTuCyo7Kdv9+uIRe5pmtBX/7Kr6IT3m8PYM59huCDDjzUJ453i3i6j7m\n",
      "         pOz4oV26EJxOlpSeEM7KTTpxl2I/6v0M0BHSLxkyEpiY7UAtQt/K4Vu7HPtHxoKxNQ4G\n",
      "         /yFSt8FDlwW9hooRX69tACwXJj02/HcjXTDUnWDOle7iFdaX6s81bj+HreR7pXMuet44\n",
      "         qQ61gU8RUyvhFEcxlzD832OdUG5dsOokxUHn5XBBVipuuaGep8/yZ83j2XPNLLOX3alu\n",
      "         Yhl5SyOgEKDwy4kG/+7wAaoRflr9LaFXqs9ZKTiyvoy1cZGh9h04BGgsAYxtMP4f5c/I\n",
      "         claw==\n",
      "ARC-Authentication-Results: i=1; mx.google.com;\n",
      "       dkim=pass header.i=@gmail.com header.s=20161025 header.b=\"GG4aixz/\";\n",
      "       spf=pass (google.com: domain of nagwanshi397@gmail.com designates 209.85.220.41 as permitted sender) smtp.mailfrom=nagwanshi397@gmail.com;\n",
      "       dmarc=pass (p=NONE sp=QUARANTINE dis=NONE) header.from=gmail.com\n",
      "Return-Path: <nagwanshi397@gmail.com>\n",
      "Received: from mail-sor-f41.google.com (mail-sor-f41.google.com. [209.85.220.41])\n",
      "        by mx.google.com with SMTPS id l124sor327772lfd.28.2020.03.03.23.52.58\n",
      "        for <assigntosaurabh@gmail.com>\n",
      "        (Google Transport Security);\n",
      "        Tue, 03 Mar 2020 23:52:58 -0800 (PST)\n",
      "Received-SPF: pass (google.com: domain of nagwanshi397@gmail.com designates 209.85.220.41 as permitted sender) client-ip=209.85.220.41;\n",
      "Authentication-Results: mx.google.com;\n",
      "       dkim=pass header.i=@gmail.com header.s=20161025 header.b=\"GG4aixz/\";\n",
      "       spf=pass (google.com: domain of nagwanshi397@gmail.com designates 209.85.220.41 as permitted sender) smtp.mailfrom=nagwanshi397@gmail.com;\n",
      "       dmarc=pass (p=NONE sp=QUARANTINE dis=NONE) header.from=gmail.com\n",
      "DKIM-Signature: v=1; a=rsa-sha256; c=relaxed/relaxed;\n",
      "        d=gmail.com; s=20161025;\n",
      "        h=mime-version:from:date:message-id:subject:to;\n",
      "        bh=DKvFPiy4b6f666SYb6VpTKW6RYW0QJyD413oHW5na9U=;\n",
      "        b=GG4aixz/WLjeuaJdtasgbJouCa7jZOvyA0njgcqR6maRd4y7z013WsuCZ+wX8bKclc\n",
      "         uLFcXnDi38vFJgckZPyB5f6uhtOeaIDhw38eV+SqpduSfC1zhZNbjTjCTp2j+hRrLLaW\n",
      "         jtYVYp40t4HmBZBMcIMZ9bG0um7jYC7H8fjYmWM2o9cD/hZHJ1ITP/G474vOguA//9Mc\n",
      "         d5rMV9G/cAsIqsseoeQCEkapT3tyd7Y958/9oizJfxefvzh8rnc5/GXSRZFUYWEEleDr\n",
      "         9Dbvs+v+CbikmS9cNKlm7DeZqQQ3kr58imz27+fGIP6q+MhDQNA+RD89+7TLZx3FkD3o\n",
      "         RKnw==\n",
      "X-Google-DKIM-Signature: v=1; a=rsa-sha256; c=relaxed/relaxed;\n",
      "        d=1e100.net; s=20161025;\n",
      "        h=x-gm-message-state:mime-version:from:date:message-id:subject:to;\n",
      "        bh=DKvFPiy4b6f666SYb6VpTKW6RYW0QJyD413oHW5na9U=;\n",
      "        b=qQaXngPDIy6GFGuRLsVrxVVf99TXcgByFJhFdQK/eRQq84LfRAZgId1m0sdo8qQcL4\n",
      "         vp3ySaN8akJYhl3urilmD5WykN+hDv/ocrArfoJtac6Mn3Vvwk6vr+5WCOgsUvcwHGD4\n",
      "         RFgpUxgGeMSnNrdj/1BepXE5gwv7SRcnl7y+ddcuHHdo52O3twudvCVrib0P56E4cVmD\n",
      "         x+xIzTd0GgM/iUC+QzSEU3hyzLMrP2OpszzQTHOsQy4H58QizMMwpyJYqnpMTsvzFMKZ\n",
      "         fCWnSfYS77ocmK+FWS2ew2fo6yPuXInMxJD+OcDqAhBz7vIQSy/oCjrmmzg8avIAjT/k\n",
      "         cMVQ==\n",
      "X-Gm-Message-State: ANhLgQ3eEO765uGUTHnrEhI8TFQ27ell9tcCY43YCKtLvUPhQe2y7YFZ\n",
      "\t/1fiGydul80Uc/4jjvgKVRD+i/YXedRGTV8i8x+Bp/lOfrU=\n",
      "X-Google-Smtp-Source: ADFU+vu6U9uuLiQAGQfVbSDrGjBFcMcbhc42joN6MRjJ0eVDBAV2rr97J9Jyk1CNXjJj5AvepUlsr/EVct461EOGgLo=\n",
      "X-Received: by 2002:a19:878a:: with SMTP id j132mr1245336lfd.83.1583308377947;\n",
      " Tue, 03 Mar 2020 23:52:57 -0800 (PST)\n",
      "MIME-Version: 1.0\n",
      "From: Saurabh Nagwanshi <nagwanshi397@gmail.com>\n",
      "Date: Wed, 4 Mar 2020 13:22:45 +0530\n",
      "Message-ID: <CAPhY23Pv1sF5k2+FGwvstxcbNfXBGGg=79Y9f3YH8w5REaHp2Q@mail.gmail.com>\n",
      "Subject: Heloo\n",
      "To: assigntosaurabh@gmail.com\n",
      "Content-Type: multipart/alternative; boundary=\"00000000000070028205a002b5a4\"\n",
      "\n",
      "--00000000000070028205a002b5a4\n",
      "Content-Type: text/plain; charset=\"UTF-8\"\n",
      "\n",
      "Unseen message hai ye!\n",
      "\n",
      "--00000000000070028205a002b5a4\n",
      "Content-Type: text/html; charset=\"UTF-8\"\n",
      "\n",
      "<div dir=\"ltr\">Unseen message hai ye!</div>\n",
      "\n",
      "--00000000000070028205a002b5a4--\n",
      "\n"
     ]
    }
   ],
   "source": [
    "print(raw) #we can see multipart(text and html) in lower side"
   ]
  },
  {
   "cell_type": "code",
   "execution_count": 20,
   "metadata": {},
   "outputs": [
    {
     "name": "stdout",
     "output_type": "stream",
     "text": [
      "Content-Type: text/plain; charset=\"UTF-8\"\n",
      "\n",
      "Unseen message hai ye!\n",
      "\n"
     ]
    }
   ],
   "source": [
    "print(get_body(raw))"
   ]
  },
  {
   "cell_type": "markdown",
   "metadata": {},
   "source": [
    "Searching MAils with certain criteria"
   ]
  },
  {
   "cell_type": "code",
   "execution_count": 73,
   "metadata": {},
   "outputs": [],
   "source": [
    "RESULT, DATA = server.search(None, 'From', 'nagwanshi397')"
   ]
  },
  {
   "cell_type": "code",
   "execution_count": 74,
   "metadata": {},
   "outputs": [
    {
     "data": {
      "text/plain": [
       "[b'1 2']"
      ]
     },
     "execution_count": 74,
     "metadata": {},
     "output_type": "execute_result"
    }
   ],
   "source": [
    "DATA"
   ]
  },
  {
   "cell_type": "code",
   "execution_count": 75,
   "metadata": {},
   "outputs": [
    {
     "data": {
      "text/plain": [
       "[b'1', b'2']"
      ]
     },
     "execution_count": 75,
     "metadata": {},
     "output_type": "execute_result"
    }
   ],
   "source": [
    "LIST_OF_BYTES = DATA[0].split()\n",
    "LIST_OF_BYTES"
   ]
  },
  {
   "cell_type": "code",
   "execution_count": 91,
   "metadata": {},
   "outputs": [],
   "source": [
    "def search_mails(Criteria_1,Criteria_2):\n",
    "    result, search_bytes = server.search(None, Criteria_1, Criteria_2) #Search mailbox for matching messages\n",
    "    list_of_bytes = search_bytes[0].split() #returns a list of byte objects,we are selecting only element in that list and\n",
    "    #splitting to into to seprate byte object>>[b'1 2']>>split>>[b'1', b'2']\n",
    "    for byte in list_of_bytes:\n",
    "        typ, byte_raw_data = server.fetch(byte,'(RFC822)')\n",
    "        raw_email = email.message_from_bytes(byte_raw_data[0][1])\n",
    "        print('Message: ',get_body(raw_email))#calling get_body function to get payload"
   ]
  },
  {
   "cell_type": "code",
   "execution_count": 92,
   "metadata": {},
   "outputs": [
    {
     "name": "stdout",
     "output_type": "stream",
     "text": [
      "Message:  Content-Type: text/plain; charset=\"UTF-8\"\n",
      "\n",
      "Hello saurabh\n",
      "\n",
      "Message:  Content-Type: text/plain; charset=\"UTF-8\"\n",
      "\n",
      "Unseen message hai ye!\n",
      "\n"
     ]
    }
   ],
   "source": [
    "search_mails('From','nagwanshi397')"
   ]
  },
  {
   "cell_type": "markdown",
   "metadata": {},
   "source": [
    "Downlaoding attachments"
   ]
  },
  {
   "cell_type": "code",
   "execution_count": null,
   "metadata": {},
   "outputs": [],
   "source": [
    "attch_dir = 'C:/users/'"
   ]
  },
  {
   "cell_type": "code",
   "execution_count": 171,
   "metadata": {},
   "outputs": [],
   "source": [
    "def get_attachmen(msg):\n",
    "    for part in msg.walk():\n",
    "        if part.get_content_maintype() == 'multipart':\n",
    "            continue\n",
    "        if part.get('Content-Dispostion') is None:\n",
    "            continue\n",
    "        fileName = part.get_filename()\n",
    "        \n",
    "        if bool(fileName):\n",
    "            filepath = os.path.join(attch_dir,fileName)\n",
    "            with open(filepath, 'wb') as f:\n",
    "                f.write(part.get_payload(decode=True))            "
   ]
  },
  {
   "cell_type": "code",
   "execution_count": 173,
   "metadata": {},
   "outputs": [],
   "source": [
    "get_attachmen(rese)"
   ]
  },
  {
   "cell_type": "code",
   "execution_count": 189,
   "metadata": {},
   "outputs": [
    {
     "data": {
      "text/plain": [
       "('OK', [None])"
      ]
     },
     "execution_count": 189,
     "metadata": {},
     "output_type": "execute_result"
    }
   ],
   "source": [
    "server.recent()#Prompt server for an update. Returned data is None if no new messages, else value of RECENT response."
   ]
  },
  {
   "cell_type": "code",
   "execution_count": 262,
   "metadata": {},
   "outputs": [
    {
     "data": {
      "text/plain": [
       "('OK', [b'Success'])"
      ]
     },
     "execution_count": 262,
     "metadata": {},
     "output_type": "execute_result"
    }
   ],
   "source": [
    "server.noop()"
   ]
  },
  {
   "cell_type": "markdown",
   "metadata": {},
   "source": [
    "Making list of senders"
   ]
  },
  {
   "cell_type": "code",
   "execution_count": 263,
   "metadata": {},
   "outputs": [
    {
     "data": {
      "text/plain": [
       "b'1'"
      ]
     },
     "execution_count": 263,
     "metadata": {},
     "output_type": "execute_result"
    }
   ],
   "source": [
    "\"{}\".format(1).encode()"
   ]
  },
  {
   "cell_type": "code",
   "execution_count": 264,
   "metadata": {},
   "outputs": [
    {
     "data": {
      "text/plain": [
       "'4'"
      ]
     },
     "execution_count": 264,
     "metadata": {},
     "output_type": "execute_result"
    }
   ],
   "source": [
    "chr(len_byte[0][0]) #number of total emails in selected mailbox"
   ]
  },
  {
   "cell_type": "code",
   "execution_count": 260,
   "metadata": {},
   "outputs": [],
   "source": [
    "def list_of_senders():\n",
    "    response, len_byte = server.select('INBOX')\n",
    "    final_byte = chr(len_byte[0][0])\n",
    "    for num in range(1,int(final_byte)+1):\n",
    "        fetch_response, fetch_data = server.fetch('{}'.format(num).encode(),'(RFC822)')\n",
    "        fetch_data_raw = email.message_from_bytes(fetch_data[0][1])\n",
    "        print(fetch_data_raw['From'])"
   ]
  },
  {
   "cell_type": "code",
   "execution_count": 261,
   "metadata": {},
   "outputs": [
    {
     "name": "stdout",
     "output_type": "stream",
     "text": [
      "Saurabh Nagwanshi <nagwanshi397@gmail.com>\n",
      "Saurabh Nagwanshi <nagwanshi397@gmail.com>\n",
      "Saurabh Nagwanshi <nagwanshi397@gmail.com>\n",
      "Saurabh Nagwanshi <nagwanshi397@gmail.com>\n"
     ]
    }
   ],
   "source": [
    "list_of_senders()"
   ]
  },
  {
   "cell_type": "code",
   "execution_count": 265,
   "metadata": {},
   "outputs": [
    {
     "data": {
      "text/plain": [
       "('OK', [b'Success'])"
      ]
     },
     "execution_count": 265,
     "metadata": {},
     "output_type": "execute_result"
    }
   ],
   "source": [
    "server.delete('old_mailbox')"
   ]
  },
  {
   "cell_type": "code",
   "execution_count": 266,
   "metadata": {},
   "outputs": [
    {
     "data": {
      "text/plain": [
       "('OK', [b'Success'])"
      ]
     },
     "execution_count": 266,
     "metadata": {},
     "output_type": "execute_result"
    }
   ],
   "source": [
    "server.delete('srb')"
   ]
  }
 ],
 "metadata": {
  "kernelspec": {
   "display_name": "Python 3",
   "language": "python",
   "name": "python3"
  },
  "language_info": {
   "codemirror_mode": {
    "name": "ipython",
    "version": 3
   },
   "file_extension": ".py",
   "mimetype": "text/x-python",
   "name": "python",
   "nbconvert_exporter": "python",
   "pygments_lexer": "ipython3",
   "version": "3.7.4"
  }
 },
 "nbformat": 4,
 "nbformat_minor": 2
}
