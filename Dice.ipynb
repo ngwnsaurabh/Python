{
 "cells": [
  {
   "cell_type": "code",
   "execution_count": 1,
   "metadata": {},
   "outputs": [],
   "source": [
    "import random #for getting random numbers"
   ]
  },
  {
   "cell_type": "code",
   "execution_count": 2,
   "metadata": {},
   "outputs": [
    {
     "name": "stdout",
     "output_type": "stream",
     "text": [
      "Press 'enter' to roll the dice or 'q' to quit \n",
      "3\n",
      "Press 'enter' to roll the dice or 'q' to quit \n",
      "2\n",
      "Press 'enter' to roll the dice or 'q' to quit \n",
      "3\n",
      "Press 'enter' to roll the dice or 'q' to quit q\n",
      "\n",
      "You exited the program\n"
     ]
    }
   ],
   "source": [
    "while True:\n",
    "    roll = input(\"Press 'enter' to roll the dice or 'q' to quit \")\n",
    "    if roll != \"q\":\n",
    "        print(random.randrange(1,7))\n",
    "    else:\n",
    "        print('\\nYou exited the program')\n",
    "        break"
   ]
  },
  {
   "cell_type": "code",
   "execution_count": null,
   "metadata": {},
   "outputs": [],
   "source": []
  }
 ],
 "metadata": {
  "kernelspec": {
   "display_name": "Python 3",
   "language": "python",
   "name": "python3"
  },
  "language_info": {
   "codemirror_mode": {
    "name": "ipython",
    "version": 3
   },
   "file_extension": ".py",
   "mimetype": "text/x-python",
   "name": "python",
   "nbconvert_exporter": "python",
   "pygments_lexer": "ipython3",
   "version": "3.7.4"
  }
 },
 "nbformat": 4,
 "nbformat_minor": 2
}
